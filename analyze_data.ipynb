{
 "cells": [
  {
   "cell_type": "code",
   "execution_count": 26,
   "id": "858247d7-78e7-4a29-bad8-c9d6ac87d282",
   "metadata": {},
   "outputs": [
    {
     "data": {
      "text/plain": [
       "True"
      ]
     },
     "execution_count": 26,
     "metadata": {},
     "output_type": "execute_result"
    }
   ],
   "source": [
    "import os\n",
    "import string\n",
    "import time\n",
    "\n",
    "import matplotlib.pyplot as plt\n",
    "import tensorflow as tf\n",
    "from decouple import config\n",
    "from dotenv import load_dotenv\n",
    "from pprint import pprint\n",
    "\n",
    "from utils import load_tokenizer\n",
    "\n",
    "load_dotenv()"
   ]
  },
  {
   "cell_type": "code",
   "execution_count": 4,
   "id": "18ba8463-65e5-48ef-9e9e-b4776a1184e1",
   "metadata": {},
   "outputs": [],
   "source": [
    "DATASET_PATH = config('DATASET_PATH')\n",
    "TRAIN_DATASET_PATH = config('TRAIN_DATASET_PATH')\n",
    "TOKENIZER_DATA_PATH = config('TOKENIZER_DATA_PATH')\n",
    "\n",
    "BLOCK_SIZE = config('BLOCK_SIZE', cast=int)  # 100\n",
    "BATCH_SIZE = config('BATCH_SIZE', cast=int)  # 12\n",
    "BUFFER_SIZE = config('BUFFER_SIZE', cast=int)  # 1000"
   ]
  },
  {
   "cell_type": "markdown",
   "id": "c151497f-9843-476b-88da-479a5c09523e",
   "metadata": {},
   "source": [
    "## Raw Data"
   ]
  },
  {
   "cell_type": "code",
   "execution_count": 6,
   "id": "c0568138-c7c1-455d-a89e-2ce6bf94a407",
   "metadata": {},
   "outputs": [],
   "source": [
    "# loading tokenizer from the saved model path\n",
    "tokenizer = load_tokenizer(TOKENIZER_DATA_PATH)\n",
    "\n",
    "# TODO: Avoid loading the whole text in memory\n",
    "single_string = ''\n",
    "raw_data = ''\n",
    "for filename in os.listdir(DATASET_PATH):\n",
    "    with open(f'{DATASET_PATH}/{filename}', \"r\", encoding='utf-8') as f:\n",
    "        x = f.read()\n",
    "    raw_data += x\n",
    "    single_string += x + tokenizer.eos_token\n",
    "\n",
    "\n"
   ]
  },
  {
   "cell_type": "markdown",
   "id": "1220a386-e27f-473f-9392-f3701a3ca8ed",
   "metadata": {},
   "source": [
    "#### Check presence of bad characters"
   ]
  },
  {
   "cell_type": "code",
   "execution_count": 33,
   "id": "f2df7714-4395-4188-879b-9dcca9ba8aeb",
   "metadata": {},
   "outputs": [
    {
     "name": "stdout",
     "output_type": "stream",
     "text": [
      "['a', 'b', 'c', 'd', 'e', 'f', 'g', 'h', 'i', 'j', 'k', 'l', 'm', 'n', 'o', 'p', 'q', 'r', 's', 't', 'u', 'v', 'w', 'x', 'y', 'z', 'A', 'B', 'C', 'D', 'E', 'F', 'G', 'H', 'I', 'J', 'K', 'L', 'M', 'N', 'O', 'P', 'Q', 'R', 'S', 'T', 'U', 'V', 'W', 'X', 'Y', 'Z', '0', '1', '2', '3', '4', '5', '6', '7', '8', '9']\n"
     ]
    }
   ],
   "source": [
    "accepted_chars = list(string.ascii_letters) + list(string.digits)\n",
    "print(accepted_chars)"
   ]
  },
  {
   "cell_type": "code",
   "execution_count": 29,
   "id": "425c8766-4649-4c33-99a9-7ec50ffd9f71",
   "metadata": {},
   "outputs": [],
   "source": [
    "raw_char_map = {}\n",
    "tokenized_char_map = {}\n",
    "raw_word_map = {}\n",
    "tokenized_word_map = {}\n",
    "bad_tokenized_char_map = {}\n",
    "# for c in raw_data:\n",
    "#     if c not in raw_char_map:\n",
    "#         raw_char_map[c]  = 0\n",
    "#     raw_char_map[c] += 1\n",
    "\n",
    "# for c in single_string:\n",
    "#     if c not in tokenized_char_map:\n",
    "#         tokenized_char_map[c] = 0\n",
    "#     tokenized_char_map[c] += 1\n",
    "for c in single_string:\n",
    "    if c not in accepted_chars:\n",
    "        if c not in bad_tokenized_char_map:\n",
    "            bad_tokenized_char_map[c] = 0\n",
    "        bad_tokenized_char_map[c] += 1\n",
    "        \n",
    "    "
   ]
  },
  {
   "cell_type": "code",
   "execution_count": 30,
   "id": "3a77fbe8-a550-46b1-94fc-b0612e4f083b",
   "metadata": {},
   "outputs": [
    {
     "name": "stdout",
     "output_type": "stream",
     "text": [
      "{'\\n': 38776,\n",
      " ' ': 46386498,\n",
      " '!': 1937,\n",
      " '\"': 15120,\n",
      " '#': 112,\n",
      " '$': 7343,\n",
      " '%': 11365,\n",
      " '&': 881,\n",
      " \"'\": 1590471,\n",
      " '(': 302,\n",
      " ')': 320,\n",
      " '*': 132,\n",
      " '+': 183,\n",
      " ',': 376754,\n",
      " '-': 184756,\n",
      " '.': 594363,\n",
      " '/': 27593,\n",
      " '0': 197714,\n",
      " '1': 114146,\n",
      " '2': 109295,\n",
      " '3': 36388,\n",
      " '4': 37358,\n",
      " '5': 48092,\n",
      " '6': 31464,\n",
      " '7': 26157,\n",
      " '8': 28787,\n",
      " '9': 43312,\n",
      " ':': 54333,\n",
      " ';': 786,\n",
      " '<': 23253,\n",
      " '=': 5,\n",
      " '>': 226376,\n",
      " '?': 56343,\n",
      " '@': 60,\n",
      " 'A': 2846188,\n",
      " 'B': 627057,\n",
      " 'C': 1016021,\n",
      " 'D': 1261593,\n",
      " 'E': 4094712,\n",
      " 'F': 640342,\n",
      " 'G': 812800,\n",
      " 'H': 1888432,\n",
      " 'I': 2887485,\n",
      " 'J': 143062,\n",
      " 'K': 361707,\n",
      " 'L': 1301793,\n",
      " 'M': 822111,\n",
      " 'N': 2439447,\n",
      " 'O': 2708600,\n",
      " 'P': 716213,\n",
      " 'Q': 24676,\n",
      " 'R': 1950126,\n",
      " 'S': 2216479,\n",
      " 'T': 3503084,\n",
      " 'U': 1011740,\n",
      " 'V': 362212,\n",
      " 'W': 813863,\n",
      " 'X': 50985,\n",
      " 'Y': 784455,\n",
      " 'Z': 25675,\n",
      " '[': 10033,\n",
      " ']': 10022,\n",
      " '^': 4,\n",
      " '_': 154,\n",
      " '~': 5,\n",
      " '\\xa0': 228,\n",
      " '¬': 1,\n",
      " '\\xad': 7,\n",
      " '®': 3,\n",
      " '°': 3,\n",
      " '´': 8,\n",
      " 'º': 1,\n",
      " '¾': 2,\n",
      " 'À': 3,\n",
      " 'Á': 5,\n",
      " 'È': 2,\n",
      " 'É': 40,\n",
      " 'Ï': 11,\n",
      " 'Ñ': 18,\n",
      " 'Ó': 18,\n",
      " 'Ö': 1,\n",
      " 'Ú': 3,\n",
      " 'Ü': 3,\n",
      " 'à': 2,\n",
      " 'á': 44,\n",
      " 'ã': 3,\n",
      " 'ä': 7,\n",
      " 'å': 3,\n",
      " 'æ': 2,\n",
      " 'ç': 6,\n",
      " 'è': 6,\n",
      " 'é': 58,\n",
      " 'ê': 2,\n",
      " 'ì': 1,\n",
      " 'í': 54,\n",
      " 'ï': 10,\n",
      " 'ñ': 24,\n",
      " 'ó': 22,\n",
      " 'ô': 2,\n",
      " 'ö': 17,\n",
      " '÷': 3,\n",
      " 'ø': 2,\n",
      " 'ú': 2,\n",
      " 'ü': 5,\n",
      " 'ō': 1,\n",
      " 'Ž': 6,\n",
      " 'ž': 6,\n",
      " '–': 263,\n",
      " '—': 708,\n",
      " '‘': 99,\n",
      " '’': 61898,\n",
      " '“': 771,\n",
      " '”': 757,\n",
      " '•': 1,\n",
      " '…': 470,\n",
      " '™': 1,\n",
      " '━': 6,\n",
      " '┘': 55,\n",
      " '█': 1,\n",
      " '♪': 3200,\n",
      " '�': 3}\n"
     ]
    }
   ],
   "source": [
    "pprint(bad_tokenized_char_map)"
   ]
  },
  {
   "cell_type": "markdown",
   "id": "3a313657-7256-4ffd-88f7-0e9fa07b1eac",
   "metadata": {},
   "source": [
    "#### Check presence of bad words"
   ]
  },
  {
   "cell_type": "code",
   "execution_count": null,
   "id": "8e4d61a6-62a2-417b-87a5-5989e9452fe1",
   "metadata": {},
   "outputs": [],
   "source": [
    "for w in raw_data.split(' '):\n",
    "    if w not in raw_word_map:\n",
    "        raw_word_map[w]  = 0\n",
    "    raw_word_map[w] += 1\n",
    "\n",
    "for w in single_string.split(' '):\n",
    "    if w not in tokenized_word_map:\n",
    "        tokenized_word_map[w]  = 0\n",
    "    tokenized_word_map[w] += 1"
   ]
  },
  {
   "cell_type": "code",
   "execution_count": null,
   "id": "b9b57d37-27e7-42d5-ba95-49be9aa88341",
   "metadata": {},
   "outputs": [],
   "source": [
    "pprint(tokenized_word_map)"
   ]
  },
  {
   "cell_type": "markdown",
   "id": "789feef4-d5f8-4a8f-b564-3f561e64eaab",
   "metadata": {},
   "source": [
    "## Tokenization"
   ]
  },
  {
   "cell_type": "code",
   "execution_count": null,
   "id": "4d9b5030-e85c-4537-939a-e8385094afcd",
   "metadata": {},
   "outputs": [],
   "source": [
    "print('Tokenizing dataset...')\n",
    "start_time = time.time()\n",
    "string_tokenized = tokenizer.encode(single_string)\n",
    "tokenization_time = execution_time = time.time() - start_time\n",
    "print(\"Finished in:\", execution_time)\n",
    "\n",
    "examples = []\n",
    "\n",
    "for i in range(0, len(string_tokenized) - BLOCK_SIZE + 1, BLOCK_SIZE):\n",
    "    examples.append(string_tokenized[i:i + BLOCK_SIZE])\n",
    "inputs, labels = [], []\n",
    "\n",
    "for ex in examples:\n",
    "    inputs.append(ex[:-1])\n",
    "    labels.append(ex[1:])\n",
    "\n",
    "dataset = tf.data.Dataset.from_tensor_slices((inputs, labels))\n",
    "dataset = dataset.shuffle(BUFFER_SIZE).batch(BATCH_SIZE, drop_remainder=True)\n",
    "dataset.save(TRAIN_DATASET_PATH)"
   ]
  }
 ],
 "metadata": {
  "kernelspec": {
   "display_name": "Python 3 (ipykernel)",
   "language": "python",
   "name": "python3"
  },
  "language_info": {
   "codemirror_mode": {
    "name": "ipython",
    "version": 3
   },
   "file_extension": ".py",
   "mimetype": "text/x-python",
   "name": "python",
   "nbconvert_exporter": "python",
   "pygments_lexer": "ipython3",
   "version": "3.8.10"
  },
  "toc-showcode": false
 },
 "nbformat": 4,
 "nbformat_minor": 5
}
